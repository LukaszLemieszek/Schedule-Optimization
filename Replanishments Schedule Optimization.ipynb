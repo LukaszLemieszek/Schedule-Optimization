{
 "cells": [
  {
   "cell_type": "markdown",
   "metadata": {},
   "source": [
    "# Optimization of a weekly replanishments "
   ]
  },
  {
   "cell_type": "code",
   "execution_count": 1,
   "metadata": {},
   "outputs": [],
   "source": [
    "from pyomo.environ import *\n",
    "from pyomo.opt import SolverFactory\n",
    "import numpy as np\n",
    "import pandas as pd"
   ]
  },
  {
   "cell_type": "markdown",
   "metadata": {},
   "source": [
    "## Define model parameters"
   ]
  },
  {
   "cell_type": "code",
   "execution_count": 5,
   "metadata": {},
   "outputs": [],
   "source": [
    "Days=[\"Mon\", \"Wed\", \"Fri\"]\n",
    "Machines = {\"M1\": 600, \"M2\": 500, \"M3\":80, \"M4\": 80, \"M5\":300, \"M6\":200, \"M7\":80, \"M8\":100}\n",
    "fixed_machines={\"M5\": \"Wed\", \"M6\": \"Wed\", \"M8\": \"Fri\"} \n",
    "limit_one_machine=1\n",
    "limit_day=4"
   ]
  },
  {
   "cell_type": "markdown",
   "metadata": {},
   "source": [
    "## Initialize model and variables "
   ]
  },
  {
   "cell_type": "code",
   "execution_count": 18,
   "metadata": {},
   "outputs": [],
   "source": [
    "model = ConcreteModel()\n",
    "# binary var representing if machine is scheduled\n",
    "model.ITEMS = Set(initialize=Machines.keys())\n",
    "model.replanishments = Var(((m, day) for m in model.ITEMS for day in Days), within=Binary, initialize=1)"
   ]
  },
  {
   "cell_type": "markdown",
   "metadata": {},
   "source": [
    "## Define the objective function"
   ]
  },
  {
   "cell_type": "code",
   "execution_count": 19,
   "metadata": {},
   "outputs": [],
   "source": [
    "model.obj = Objective(expr=sum([max(Machines[i]*value(model.replanishments[i, day]) for i in model.ITEMS) + \\\n",
    "                            sum(model.replanishments[i, day]*60 for i in model.ITEMS) for day in Days]) - 60, sense=minimize)\n"
   ]
  },
  {
   "cell_type": "markdown",
   "metadata": {},
   "source": [
    "## Add model constraints"
   ]
  },
  {
   "cell_type": "code",
   "execution_count": 20,
   "metadata": {},
   "outputs": [],
   "source": [
    "model.constraints = ConstraintList()  # Create a set of constraints\n",
    "\n",
    "for machine in model.ITEMS:\n",
    "    model.constraints.add(limit_one_machine == sum(model.replanishments[machine, day] for day in Days))\n",
    "    # one replanishment for machine\n",
    "\n",
    "for day in Days:\n",
    "    model.constraints.add(limit_day >= sum(model.replanishments[machine, day] for machine in model.ITEMS))\n",
    "    #max replanishment for one day\n",
    "\n",
    "for day in Days:\n",
    "    model.constraints.add(sum(model.replanishments[machine, day] for machine in model.ITEMS)>=0)       \n",
    "\n",
    "for machine, day in fixed_machines.items():\n",
    "    model.constraints.add(1==model.replanishments[machine, day])\n",
    "    #cons for fixed ATMs"
   ]
  },
  {
   "cell_type": "markdown",
   "metadata": {},
   "source": [
    "## Find the solution "
   ]
  },
  {
   "cell_type": "markdown",
   "metadata": {},
   "source": [
    "### Local solver:"
   ]
  },
  {
   "cell_type": "code",
   "execution_count": 23,
   "metadata": {},
   "outputs": [
    {
     "name": "stdout",
     "output_type": "stream",
     "text": [
      "Bonmin 1.8.6 using Cbc 2.9.9 and Ipopt 3.12.8\r\n",
      "bonmin: \r\n",
      "\r\n",
      "******************************************************************************\r\n",
      "This program contains Ipopt, a library for large-scale nonlinear optimization.\r\n",
      " Ipopt is released as open source code under the Eclipse Public License (EPL).\r\n",
      "         For more information visit http://projects.coin-or.org/Ipopt\r\n",
      "******************************************************************************\r\n",
      "\r\n",
      "NLP0012I \r\n",
      "              Num      Status      Obj             It       time                 Location\r\n",
      "NLP0014I             1         OPT 2220        8 0.02\r\n",
      "NLP0012I \r\n",
      "              Num      Status      Obj             It       time                 Location\r\n",
      "NLP0014I             1         OPT 2220        0 0\r\n",
      "NLP0012I \r\n",
      "              Num      Status      Obj             It       time                 Location\r\n",
      "NLP0014I             1         OPT 2220        0 0\r\n",
      "Cbc0012I Integer solution of 2220 found by DiveMIPFractional after 0 iterations and 0 nodes (0.01 seconds)\r\n",
      "Cbc0001I Search completed - best objective 2220, took 0 iterations and 0 nodes (0.01 seconds)\r\n",
      "Cbc0035I Maximum depth 0, 0 variables fixed on reduced cost\r\n",
      "\b\b\b\b\b\b\b\b\r\n",
      " \t\"Finished\"\r\n"
     ]
    }
   ],
   "source": [
    "opt = SolverFactory(\"bonmin\")  # choose a solver\n",
    "results = opt.solve(model, tee=True) # solve the model with the selected solver"
   ]
  },
  {
   "cell_type": "markdown",
   "metadata": {},
   "source": [
    "# Final Schedule"
   ]
  },
  {
   "cell_type": "code",
   "execution_count": 26,
   "metadata": {},
   "outputs": [
    {
     "data": {
      "text/html": [
       "<div>\n",
       "<style scoped>\n",
       "    .dataframe tbody tr th:only-of-type {\n",
       "        vertical-align: middle;\n",
       "    }\n",
       "\n",
       "    .dataframe tbody tr th {\n",
       "        vertical-align: top;\n",
       "    }\n",
       "\n",
       "    .dataframe thead th {\n",
       "        text-align: right;\n",
       "    }\n",
       "</style>\n",
       "<table border=\"1\" class=\"dataframe\">\n",
       "  <thead>\n",
       "    <tr style=\"text-align: right;\">\n",
       "      <th></th>\n",
       "      <th>Machine</th>\n",
       "      <th>Mon</th>\n",
       "      <th>Wed</th>\n",
       "      <th>Fri</th>\n",
       "    </tr>\n",
       "  </thead>\n",
       "  <tbody>\n",
       "    <tr>\n",
       "      <th>0</th>\n",
       "      <td>M1</td>\n",
       "      <td>0.0</td>\n",
       "      <td>0.0</td>\n",
       "      <td>1.0</td>\n",
       "    </tr>\n",
       "    <tr>\n",
       "      <th>1</th>\n",
       "      <td>M2</td>\n",
       "      <td>0.0</td>\n",
       "      <td>0.0</td>\n",
       "      <td>1.0</td>\n",
       "    </tr>\n",
       "    <tr>\n",
       "      <th>2</th>\n",
       "      <td>M3</td>\n",
       "      <td>0.0</td>\n",
       "      <td>0.0</td>\n",
       "      <td>1.0</td>\n",
       "    </tr>\n",
       "    <tr>\n",
       "      <th>3</th>\n",
       "      <td>M4</td>\n",
       "      <td>1.0</td>\n",
       "      <td>0.0</td>\n",
       "      <td>0.0</td>\n",
       "    </tr>\n",
       "    <tr>\n",
       "      <th>4</th>\n",
       "      <td>M5</td>\n",
       "      <td>0.0</td>\n",
       "      <td>1.0</td>\n",
       "      <td>0.0</td>\n",
       "    </tr>\n",
       "    <tr>\n",
       "      <th>5</th>\n",
       "      <td>M6</td>\n",
       "      <td>0.0</td>\n",
       "      <td>1.0</td>\n",
       "      <td>0.0</td>\n",
       "    </tr>\n",
       "    <tr>\n",
       "      <th>6</th>\n",
       "      <td>M7</td>\n",
       "      <td>1.0</td>\n",
       "      <td>0.0</td>\n",
       "      <td>0.0</td>\n",
       "    </tr>\n",
       "    <tr>\n",
       "      <th>7</th>\n",
       "      <td>M8</td>\n",
       "      <td>0.0</td>\n",
       "      <td>0.0</td>\n",
       "      <td>1.0</td>\n",
       "    </tr>\n",
       "  </tbody>\n",
       "</table>\n",
       "</div>"
      ],
      "text/plain": [
       "  Machine  Mon  Wed  Fri\n",
       "0      M1  0.0  0.0  1.0\n",
       "1      M2  0.0  0.0  1.0\n",
       "2      M3  0.0  0.0  1.0\n",
       "3      M4  1.0  0.0  0.0\n",
       "4      M5  0.0  1.0  0.0\n",
       "5      M6  0.0  1.0  0.0\n",
       "6      M7  1.0  0.0  0.0\n",
       "7      M8  0.0  0.0  1.0"
      ]
     },
     "execution_count": 26,
     "metadata": {},
     "output_type": "execute_result"
    }
   ],
   "source": [
    "machines=[m for m in Machines.keys()] \n",
    "Mon= [value(model.replanishments[i,'Mon']) for i in model.ITEMS]\n",
    "Wed= [value(model.replanishments[i,'Wed']) for i in model.ITEMS]\n",
    "Fri= [value(model.replanishments[i,'Fri']) for i in model.ITEMS]\n",
    "schedule={\"Machine\": machines, \"Mon\": Mon, \"Wed\": Wed, \"Fri\": Fri}\n",
    "pd.DataFrame(schedule)"
   ]
  }
 ],
 "metadata": {
  "kernelspec": {
   "display_name": "Python 3",
   "language": "python",
   "name": "python3"
  },
  "language_info": {
   "codemirror_mode": {
    "name": "ipython",
    "version": 3
   },
   "file_extension": ".py",
   "mimetype": "text/x-python",
   "name": "python",
   "nbconvert_exporter": "python",
   "pygments_lexer": "ipython3",
   "version": "3.7.0"
  }
 },
 "nbformat": 4,
 "nbformat_minor": 2
}
